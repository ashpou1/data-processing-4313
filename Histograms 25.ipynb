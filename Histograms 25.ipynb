{
  "nbformat": 4,
  "nbformat_minor": 0,
  "metadata": {
    "colab": {
      "name": "Untitled7.ipynb",
      "provenance": [],
      "authorship_tag": "ABX9TyMomlNXz8XaVhnbaEUA9bsx",
      "include_colab_link": true
    },
    "kernelspec": {
      "name": "python3",
      "display_name": "Python 3"
    },
    "language_info": {
      "name": "python"
    }
  },
  "cells": [
    {
      "cell_type": "markdown",
      "metadata": {
        "id": "view-in-github",
        "colab_type": "text"
      },
      "source": [
        "<a href=\"https://colab.research.google.com/github/ashpou1/data-processing-4313/blob/main/Histograms%2025.ipynb\" target=\"_parent\"><img src=\"https://colab.research.google.com/assets/colab-badge.svg\" alt=\"Open In Colab\"/></a>"
      ]
    },
    {
      "cell_type": "markdown",
      "source": [
        "#ASHOK SHARMA POUDEL  \n",
        "#218380  \n",
        "#DATA PROCESSING VISUALIZATION  4313 \n",
        "#DR. NICHOLAS JACOB\n",
        "\n",
        "---\n",
        "\n",
        "\n",
        "\n",
        "---\n",
        "\n"
      ],
      "metadata": {
        "id": "qHTBPolXnyAI"
      }
    },
    {
      "cell_type": "markdown",
      "source": [
        "##Histograms 25\n",
        "\n",
        "---\n",
        "\n"
      ],
      "metadata": {
        "id": "Z8HCtl4mMRm4"
      }
    },
    {
      "cell_type": "code",
      "execution_count": 1,
      "metadata": {
        "id": "tNuR1eGcnjJ6",
        "outputId": "2c45dacc-917f-499d-c61f-6bc5b5a9e31b",
        "colab": {
          "base_uri": "https://localhost:8080/",
          "height": 870
        }
      },
      "outputs": [
        {
          "output_type": "execute_result",
          "data": {
            "text/plain": [
              "             id                                               name   host_id  \\\n",
              "0          2539                 Clean & quiet apt home by the park      2787   \n",
              "1          2595                              Skylit Midtown Castle      2845   \n",
              "2          3647                THE VILLAGE OF HARLEM....NEW YORK !      4632   \n",
              "3          3831                    Cozy Entire Floor of Brownstone      4869   \n",
              "4          5022   Entire Apt: Spacious Studio/Loft by central park      7192   \n",
              "...         ...                                                ...       ...   \n",
              "48890  36484665    Charming one bedroom - newly renovated rowhouse   8232441   \n",
              "48891  36485057      Affordable room in Bushwick/East Williamsburg   6570630   \n",
              "48892  36485431            Sunny Studio at Historical Neighborhood  23492952   \n",
              "48893  36485609               43rd St. Time Square-cozy single bed  30985759   \n",
              "48894  36487245  Trendy duplex in the very heart of Hell's Kitchen  68119814   \n",
              "\n",
              "           host_name neighbourhood_group       neighbourhood  latitude  \\\n",
              "0               John            Brooklyn          Kensington  40.64749   \n",
              "1           Jennifer           Manhattan             Midtown  40.75362   \n",
              "2          Elisabeth           Manhattan              Harlem  40.80902   \n",
              "3        LisaRoxanne            Brooklyn        Clinton Hill  40.68514   \n",
              "4              Laura           Manhattan         East Harlem  40.79851   \n",
              "...              ...                 ...                 ...       ...   \n",
              "48890        Sabrina            Brooklyn  Bedford-Stuyvesant  40.67853   \n",
              "48891        Marisol            Brooklyn            Bushwick  40.70184   \n",
              "48892  Ilgar & Aysel           Manhattan              Harlem  40.81475   \n",
              "48893            Taz           Manhattan      Hell's Kitchen  40.75751   \n",
              "48894     Christophe           Manhattan      Hell's Kitchen  40.76404   \n",
              "\n",
              "       longitude        room_type  price  minimum_nights  number_of_reviews  \\\n",
              "0      -73.97237     Private room    149               1                  9   \n",
              "1      -73.98377  Entire home/apt    225               1                 45   \n",
              "2      -73.94190     Private room    150               3                  0   \n",
              "3      -73.95976  Entire home/apt     89               1                270   \n",
              "4      -73.94399  Entire home/apt     80              10                  9   \n",
              "...          ...              ...    ...             ...                ...   \n",
              "48890  -73.94995     Private room     70               2                  0   \n",
              "48891  -73.93317     Private room     40               4                  0   \n",
              "48892  -73.94867  Entire home/apt    115              10                  0   \n",
              "48893  -73.99112      Shared room     55               1                  0   \n",
              "48894  -73.98933     Private room     90               7                  0   \n",
              "\n",
              "      last_review  reviews_per_month  calculated_host_listings_count  \\\n",
              "0      2018-10-19               0.21                               6   \n",
              "1      2019-05-21               0.38                               2   \n",
              "2             NaN                NaN                               1   \n",
              "3      2019-07-05               4.64                               1   \n",
              "4      2018-11-19               0.10                               1   \n",
              "...           ...                ...                             ...   \n",
              "48890         NaN                NaN                               2   \n",
              "48891         NaN                NaN                               2   \n",
              "48892         NaN                NaN                               1   \n",
              "48893         NaN                NaN                               6   \n",
              "48894         NaN                NaN                               1   \n",
              "\n",
              "       availability_365  \n",
              "0                   365  \n",
              "1                   355  \n",
              "2                   365  \n",
              "3                   194  \n",
              "4                     0  \n",
              "...                 ...  \n",
              "48890                 9  \n",
              "48891                36  \n",
              "48892                27  \n",
              "48893                 2  \n",
              "48894                23  \n",
              "\n",
              "[48895 rows x 16 columns]"
            ],
            "text/html": [
              "\n",
              "  <div id=\"df-4eaefa61-10df-4bf7-b115-fa59f4244b04\">\n",
              "    <div class=\"colab-df-container\">\n",
              "      <div>\n",
              "<style scoped>\n",
              "    .dataframe tbody tr th:only-of-type {\n",
              "        vertical-align: middle;\n",
              "    }\n",
              "\n",
              "    .dataframe tbody tr th {\n",
              "        vertical-align: top;\n",
              "    }\n",
              "\n",
              "    .dataframe thead th {\n",
              "        text-align: right;\n",
              "    }\n",
              "</style>\n",
              "<table border=\"1\" class=\"dataframe\">\n",
              "  <thead>\n",
              "    <tr style=\"text-align: right;\">\n",
              "      <th></th>\n",
              "      <th>id</th>\n",
              "      <th>name</th>\n",
              "      <th>host_id</th>\n",
              "      <th>host_name</th>\n",
              "      <th>neighbourhood_group</th>\n",
              "      <th>neighbourhood</th>\n",
              "      <th>latitude</th>\n",
              "      <th>longitude</th>\n",
              "      <th>room_type</th>\n",
              "      <th>price</th>\n",
              "      <th>minimum_nights</th>\n",
              "      <th>number_of_reviews</th>\n",
              "      <th>last_review</th>\n",
              "      <th>reviews_per_month</th>\n",
              "      <th>calculated_host_listings_count</th>\n",
              "      <th>availability_365</th>\n",
              "    </tr>\n",
              "  </thead>\n",
              "  <tbody>\n",
              "    <tr>\n",
              "      <th>0</th>\n",
              "      <td>2539</td>\n",
              "      <td>Clean &amp; quiet apt home by the park</td>\n",
              "      <td>2787</td>\n",
              "      <td>John</td>\n",
              "      <td>Brooklyn</td>\n",
              "      <td>Kensington</td>\n",
              "      <td>40.64749</td>\n",
              "      <td>-73.97237</td>\n",
              "      <td>Private room</td>\n",
              "      <td>149</td>\n",
              "      <td>1</td>\n",
              "      <td>9</td>\n",
              "      <td>2018-10-19</td>\n",
              "      <td>0.21</td>\n",
              "      <td>6</td>\n",
              "      <td>365</td>\n",
              "    </tr>\n",
              "    <tr>\n",
              "      <th>1</th>\n",
              "      <td>2595</td>\n",
              "      <td>Skylit Midtown Castle</td>\n",
              "      <td>2845</td>\n",
              "      <td>Jennifer</td>\n",
              "      <td>Manhattan</td>\n",
              "      <td>Midtown</td>\n",
              "      <td>40.75362</td>\n",
              "      <td>-73.98377</td>\n",
              "      <td>Entire home/apt</td>\n",
              "      <td>225</td>\n",
              "      <td>1</td>\n",
              "      <td>45</td>\n",
              "      <td>2019-05-21</td>\n",
              "      <td>0.38</td>\n",
              "      <td>2</td>\n",
              "      <td>355</td>\n",
              "    </tr>\n",
              "    <tr>\n",
              "      <th>2</th>\n",
              "      <td>3647</td>\n",
              "      <td>THE VILLAGE OF HARLEM....NEW YORK !</td>\n",
              "      <td>4632</td>\n",
              "      <td>Elisabeth</td>\n",
              "      <td>Manhattan</td>\n",
              "      <td>Harlem</td>\n",
              "      <td>40.80902</td>\n",
              "      <td>-73.94190</td>\n",
              "      <td>Private room</td>\n",
              "      <td>150</td>\n",
              "      <td>3</td>\n",
              "      <td>0</td>\n",
              "      <td>NaN</td>\n",
              "      <td>NaN</td>\n",
              "      <td>1</td>\n",
              "      <td>365</td>\n",
              "    </tr>\n",
              "    <tr>\n",
              "      <th>3</th>\n",
              "      <td>3831</td>\n",
              "      <td>Cozy Entire Floor of Brownstone</td>\n",
              "      <td>4869</td>\n",
              "      <td>LisaRoxanne</td>\n",
              "      <td>Brooklyn</td>\n",
              "      <td>Clinton Hill</td>\n",
              "      <td>40.68514</td>\n",
              "      <td>-73.95976</td>\n",
              "      <td>Entire home/apt</td>\n",
              "      <td>89</td>\n",
              "      <td>1</td>\n",
              "      <td>270</td>\n",
              "      <td>2019-07-05</td>\n",
              "      <td>4.64</td>\n",
              "      <td>1</td>\n",
              "      <td>194</td>\n",
              "    </tr>\n",
              "    <tr>\n",
              "      <th>4</th>\n",
              "      <td>5022</td>\n",
              "      <td>Entire Apt: Spacious Studio/Loft by central park</td>\n",
              "      <td>7192</td>\n",
              "      <td>Laura</td>\n",
              "      <td>Manhattan</td>\n",
              "      <td>East Harlem</td>\n",
              "      <td>40.79851</td>\n",
              "      <td>-73.94399</td>\n",
              "      <td>Entire home/apt</td>\n",
              "      <td>80</td>\n",
              "      <td>10</td>\n",
              "      <td>9</td>\n",
              "      <td>2018-11-19</td>\n",
              "      <td>0.10</td>\n",
              "      <td>1</td>\n",
              "      <td>0</td>\n",
              "    </tr>\n",
              "    <tr>\n",
              "      <th>...</th>\n",
              "      <td>...</td>\n",
              "      <td>...</td>\n",
              "      <td>...</td>\n",
              "      <td>...</td>\n",
              "      <td>...</td>\n",
              "      <td>...</td>\n",
              "      <td>...</td>\n",
              "      <td>...</td>\n",
              "      <td>...</td>\n",
              "      <td>...</td>\n",
              "      <td>...</td>\n",
              "      <td>...</td>\n",
              "      <td>...</td>\n",
              "      <td>...</td>\n",
              "      <td>...</td>\n",
              "      <td>...</td>\n",
              "    </tr>\n",
              "    <tr>\n",
              "      <th>48890</th>\n",
              "      <td>36484665</td>\n",
              "      <td>Charming one bedroom - newly renovated rowhouse</td>\n",
              "      <td>8232441</td>\n",
              "      <td>Sabrina</td>\n",
              "      <td>Brooklyn</td>\n",
              "      <td>Bedford-Stuyvesant</td>\n",
              "      <td>40.67853</td>\n",
              "      <td>-73.94995</td>\n",
              "      <td>Private room</td>\n",
              "      <td>70</td>\n",
              "      <td>2</td>\n",
              "      <td>0</td>\n",
              "      <td>NaN</td>\n",
              "      <td>NaN</td>\n",
              "      <td>2</td>\n",
              "      <td>9</td>\n",
              "    </tr>\n",
              "    <tr>\n",
              "      <th>48891</th>\n",
              "      <td>36485057</td>\n",
              "      <td>Affordable room in Bushwick/East Williamsburg</td>\n",
              "      <td>6570630</td>\n",
              "      <td>Marisol</td>\n",
              "      <td>Brooklyn</td>\n",
              "      <td>Bushwick</td>\n",
              "      <td>40.70184</td>\n",
              "      <td>-73.93317</td>\n",
              "      <td>Private room</td>\n",
              "      <td>40</td>\n",
              "      <td>4</td>\n",
              "      <td>0</td>\n",
              "      <td>NaN</td>\n",
              "      <td>NaN</td>\n",
              "      <td>2</td>\n",
              "      <td>36</td>\n",
              "    </tr>\n",
              "    <tr>\n",
              "      <th>48892</th>\n",
              "      <td>36485431</td>\n",
              "      <td>Sunny Studio at Historical Neighborhood</td>\n",
              "      <td>23492952</td>\n",
              "      <td>Ilgar &amp; Aysel</td>\n",
              "      <td>Manhattan</td>\n",
              "      <td>Harlem</td>\n",
              "      <td>40.81475</td>\n",
              "      <td>-73.94867</td>\n",
              "      <td>Entire home/apt</td>\n",
              "      <td>115</td>\n",
              "      <td>10</td>\n",
              "      <td>0</td>\n",
              "      <td>NaN</td>\n",
              "      <td>NaN</td>\n",
              "      <td>1</td>\n",
              "      <td>27</td>\n",
              "    </tr>\n",
              "    <tr>\n",
              "      <th>48893</th>\n",
              "      <td>36485609</td>\n",
              "      <td>43rd St. Time Square-cozy single bed</td>\n",
              "      <td>30985759</td>\n",
              "      <td>Taz</td>\n",
              "      <td>Manhattan</td>\n",
              "      <td>Hell's Kitchen</td>\n",
              "      <td>40.75751</td>\n",
              "      <td>-73.99112</td>\n",
              "      <td>Shared room</td>\n",
              "      <td>55</td>\n",
              "      <td>1</td>\n",
              "      <td>0</td>\n",
              "      <td>NaN</td>\n",
              "      <td>NaN</td>\n",
              "      <td>6</td>\n",
              "      <td>2</td>\n",
              "    </tr>\n",
              "    <tr>\n",
              "      <th>48894</th>\n",
              "      <td>36487245</td>\n",
              "      <td>Trendy duplex in the very heart of Hell's Kitchen</td>\n",
              "      <td>68119814</td>\n",
              "      <td>Christophe</td>\n",
              "      <td>Manhattan</td>\n",
              "      <td>Hell's Kitchen</td>\n",
              "      <td>40.76404</td>\n",
              "      <td>-73.98933</td>\n",
              "      <td>Private room</td>\n",
              "      <td>90</td>\n",
              "      <td>7</td>\n",
              "      <td>0</td>\n",
              "      <td>NaN</td>\n",
              "      <td>NaN</td>\n",
              "      <td>1</td>\n",
              "      <td>23</td>\n",
              "    </tr>\n",
              "  </tbody>\n",
              "</table>\n",
              "<p>48895 rows × 16 columns</p>\n",
              "</div>\n",
              "      <button class=\"colab-df-convert\" onclick=\"convertToInteractive('df-4eaefa61-10df-4bf7-b115-fa59f4244b04')\"\n",
              "              title=\"Convert this dataframe to an interactive table.\"\n",
              "              style=\"display:none;\">\n",
              "        \n",
              "  <svg xmlns=\"http://www.w3.org/2000/svg\" height=\"24px\"viewBox=\"0 0 24 24\"\n",
              "       width=\"24px\">\n",
              "    <path d=\"M0 0h24v24H0V0z\" fill=\"none\"/>\n",
              "    <path d=\"M18.56 5.44l.94 2.06.94-2.06 2.06-.94-2.06-.94-.94-2.06-.94 2.06-2.06.94zm-11 1L8.5 8.5l.94-2.06 2.06-.94-2.06-.94L8.5 2.5l-.94 2.06-2.06.94zm10 10l.94 2.06.94-2.06 2.06-.94-2.06-.94-.94-2.06-.94 2.06-2.06.94z\"/><path d=\"M17.41 7.96l-1.37-1.37c-.4-.4-.92-.59-1.43-.59-.52 0-1.04.2-1.43.59L10.3 9.45l-7.72 7.72c-.78.78-.78 2.05 0 2.83L4 21.41c.39.39.9.59 1.41.59.51 0 1.02-.2 1.41-.59l7.78-7.78 2.81-2.81c.8-.78.8-2.07 0-2.86zM5.41 20L4 18.59l7.72-7.72 1.47 1.35L5.41 20z\"/>\n",
              "  </svg>\n",
              "      </button>\n",
              "      \n",
              "  <style>\n",
              "    .colab-df-container {\n",
              "      display:flex;\n",
              "      flex-wrap:wrap;\n",
              "      gap: 12px;\n",
              "    }\n",
              "\n",
              "    .colab-df-convert {\n",
              "      background-color: #E8F0FE;\n",
              "      border: none;\n",
              "      border-radius: 50%;\n",
              "      cursor: pointer;\n",
              "      display: none;\n",
              "      fill: #1967D2;\n",
              "      height: 32px;\n",
              "      padding: 0 0 0 0;\n",
              "      width: 32px;\n",
              "    }\n",
              "\n",
              "    .colab-df-convert:hover {\n",
              "      background-color: #E2EBFA;\n",
              "      box-shadow: 0px 1px 2px rgba(60, 64, 67, 0.3), 0px 1px 3px 1px rgba(60, 64, 67, 0.15);\n",
              "      fill: #174EA6;\n",
              "    }\n",
              "\n",
              "    [theme=dark] .colab-df-convert {\n",
              "      background-color: #3B4455;\n",
              "      fill: #D2E3FC;\n",
              "    }\n",
              "\n",
              "    [theme=dark] .colab-df-convert:hover {\n",
              "      background-color: #434B5C;\n",
              "      box-shadow: 0px 1px 3px 1px rgba(0, 0, 0, 0.15);\n",
              "      filter: drop-shadow(0px 1px 2px rgba(0, 0, 0, 0.3));\n",
              "      fill: #FFFFFF;\n",
              "    }\n",
              "  </style>\n",
              "\n",
              "      <script>\n",
              "        const buttonEl =\n",
              "          document.querySelector('#df-4eaefa61-10df-4bf7-b115-fa59f4244b04 button.colab-df-convert');\n",
              "        buttonEl.style.display =\n",
              "          google.colab.kernel.accessAllowed ? 'block' : 'none';\n",
              "\n",
              "        async function convertToInteractive(key) {\n",
              "          const element = document.querySelector('#df-4eaefa61-10df-4bf7-b115-fa59f4244b04');\n",
              "          const dataTable =\n",
              "            await google.colab.kernel.invokeFunction('convertToInteractive',\n",
              "                                                     [key], {});\n",
              "          if (!dataTable) return;\n",
              "\n",
              "          const docLinkHtml = 'Like what you see? Visit the ' +\n",
              "            '<a target=\"_blank\" href=https://colab.research.google.com/notebooks/data_table.ipynb>data table notebook</a>'\n",
              "            + ' to learn more about interactive tables.';\n",
              "          element.innerHTML = '';\n",
              "          dataTable['output_type'] = 'display_data';\n",
              "          await google.colab.output.renderOutput(dataTable, element);\n",
              "          const docLink = document.createElement('div');\n",
              "          docLink.innerHTML = docLinkHtml;\n",
              "          element.appendChild(docLink);\n",
              "        }\n",
              "      </script>\n",
              "    </div>\n",
              "  </div>\n",
              "  "
            ]
          },
          "metadata": {},
          "execution_count": 1
        }
      ],
      "source": [
        "import pandas as pa\n",
        "\n",
        "df = pa.read_csv('https://raw.githubusercontent.com/nurfnick/Data_Viz/main/AB_NYC_2019.csv')\n",
        "df"
      ]
    },
    {
      "cell_type": "markdown",
      "source": [
        "Lets see histogram for whole data\n",
        "\n",
        "---\n",
        "\n"
      ],
      "metadata": {
        "id": "GjtlMJEZ2jk1"
      }
    },
    {
      "cell_type": "code",
      "source": [
        "df.plot.hist()"
      ],
      "metadata": {
        "id": "p0jVlElG141w",
        "outputId": "275c164f-9c4c-4959-de2e-4a15d09c01bf",
        "colab": {
          "base_uri": "https://localhost:8080/",
          "height": 295
        }
      },
      "execution_count": 2,
      "outputs": [
        {
          "output_type": "execute_result",
          "data": {
            "text/plain": [
              "<matplotlib.axes._subplots.AxesSubplot at 0x7f1930ff1850>"
            ]
          },
          "metadata": {},
          "execution_count": 2
        },
        {
          "output_type": "display_data",
          "data": {
            "text/plain": [
              "<Figure size 432x288 with 1 Axes>"
            ],
            "image/png": "[encoded data removed]"
          },
          "metadata": {
            "needs_background": "light"
          }
        }
      ]
    },
    {
      "cell_type": "markdown",
      "source": [
        "Histogram of prices of Air A&B\n",
        "\n",
        "---\n",
        "\n"
      ],
      "metadata": {
        "id": "1JufpVjoMYWH"
      }
    },
    {
      "cell_type": "code",
      "source": [
        "df.price.plot.hist(title = 'prices of NYC Air A&B', bins = 1000)"
      ],
      "metadata": {
        "id": "SQaFhg4XJGpU",
        "outputId": "a5ff0703-cef2-49f5-d96b-c5585b2b2d1a",
        "colab": {
          "base_uri": "https://localhost:8080/",
          "height": 298
        }
      },
      "execution_count": 10,
      "outputs": [
        {
          "output_type": "execute_result",
          "data": {
            "text/plain": [
              "<matplotlib.axes._subplots.AxesSubplot at 0x7f192c2e1cd0>"
            ]
          },
          "metadata": {},
          "execution_count": 10
        },
        {
          "output_type": "display_data",
          "data": {
            "text/plain": [
              "<Figure size 432x288 with 1 Axes>"
            ],
            "image/png": "[encoded data removed]"
          },
          "metadata": {
            "needs_background": "light"
          }
        }
      ]
    },
    {
      "cell_type": "markdown",
      "source": [
        "Lets use bins and xlim to make it better.\n",
        "\n",
        "---\n",
        "\n"
      ],
      "metadata": {
        "id": "CWS8k43-6KY4"
      }
    },
    {
      "cell_type": "code",
      "source": [
        "df.price.plot.hist(title = 'prices of NYC Air A&B', bins = 1200, xlim=[0,1000]).set_xlabel(\"Price\")"
      ],
      "metadata": {
        "id": "uRxgysgU2wTL",
        "outputId": "69d61202-b8a2-467b-d24b-b61d1cfe83ee",
        "colab": {
          "base_uri": "https://localhost:8080/",
          "height": 312
        }
      },
      "execution_count": 17,
      "outputs": [
        {
          "output_type": "execute_result",
          "data": {
            "text/plain": [
              "Text(0.5, 0, 'Price')"
            ]
          },
          "metadata": {},
          "execution_count": 17
        },
        {
          "output_type": "display_data",
          "data": {
            "text/plain": [
              "<Figure size 432x288 with 1 Axes>"
            ],
            "image/png": "[encoded data removed]"
          },
          "metadata": {
            "needs_background": "light"
          }
        }
      ]
    },
    {
      "cell_type": "markdown",
      "source": [
        "Histgram of prices as neighbourhood group\n",
        "\n",
        "\n",
        "\n",
        "---\n",
        "\n",
        "\n",
        "\n"
      ],
      "metadata": {
        "id": "LbFGx0z1MjrN"
      }
    },
    {
      "cell_type": "code",
      "source": [
        "df.groupby('neighbourhood_group').price.plot.hist()"
      ],
      "metadata": {
        "id": "QB-hYKEjK3Hu",
        "outputId": "1f1f655d-5c4c-4ae2-bd07-ae7a2a04ff92",
        "colab": {
          "base_uri": "https://localhost:8080/",
          "height": 386
        }
      },
      "execution_count": 5,
      "outputs": [
        {
          "output_type": "execute_result",
          "data": {
            "text/plain": [
              "neighbourhood_group\n",
              "Bronx            AxesSubplot(0.125,0.125;0.775x0.755)\n",
              "Brooklyn         AxesSubplot(0.125,0.125;0.775x0.755)\n",
              "Manhattan        AxesSubplot(0.125,0.125;0.775x0.755)\n",
              "Queens           AxesSubplot(0.125,0.125;0.775x0.755)\n",
              "Staten Island    AxesSubplot(0.125,0.125;0.775x0.755)\n",
              "Name: price, dtype: object"
            ]
          },
          "metadata": {},
          "execution_count": 5
        },
        {
          "output_type": "display_data",
          "data": {
            "text/plain": [
              "<Figure size 432x288 with 1 Axes>"
            ],
            "image/png": "[encoded data removed]"
          },
          "metadata": {
            "needs_background": "light"
          }
        }
      ]
    },
    {
      "cell_type": "markdown",
      "source": [
        "lets try to make it better looking\n",
        "\n",
        "---\n",
        "\n"
      ],
      "metadata": {
        "id": "SH0Stpb83m-Y"
      }
    },
    {
      "cell_type": "code",
      "source": [
        "df.groupby('neighbourhood_group').price.plot.hist(alpha = .7, title ='Prices for Air A&B in NYC', bins= 500, xlim=[0,1000],legend = True)"
      ],
      "metadata": {
        "id": "66NqYY90KGNR",
        "outputId": "c5dad1e8-04c4-4c75-b369-0a283cab6d41",
        "colab": {
          "base_uri": "https://localhost:8080/",
          "height": 402
        }
      },
      "execution_count": 29,
      "outputs": [
        {
          "output_type": "execute_result",
          "data": {
            "text/plain": [
              "neighbourhood_group\n",
              "Bronx            AxesSubplot(0.125,0.125;0.775x0.755)\n",
              "Brooklyn         AxesSubplot(0.125,0.125;0.775x0.755)\n",
              "Manhattan        AxesSubplot(0.125,0.125;0.775x0.755)\n",
              "Queens           AxesSubplot(0.125,0.125;0.775x0.755)\n",
              "Staten Island    AxesSubplot(0.125,0.125;0.775x0.755)\n",
              "Name: price, dtype: object"
            ]
          },
          "metadata": {},
          "execution_count": 29
        },
        {
          "output_type": "display_data",
          "data": {
            "text/plain": [
              "<Figure size 432x288 with 1 Axes>"
            ],
            "image/png": "[encoded data removed]"
          },
          "metadata": {
            "needs_background": "light"
          }
        }
      ]
    },
    {
      "cell_type": "markdown",
      "source": [
        "Lets change the xlimt to 200 if we can see staten island. \n",
        "\n",
        "---\n",
        "\n"
      ],
      "metadata": {
        "id": "ajCkslU35YiL"
      }
    },
    {
      "cell_type": "code",
      "source": [
        "df.groupby('neighbourhood_group').price.plot.hist(alpha = .7, title ='Prices for Air A&B in NYC', bins= 500, xlim=[0,200],legend = True)"
      ],
      "metadata": {
        "id": "0ENiCkT-5XtJ",
        "outputId": "276b7f9f-eb5d-47fe-b1f1-7cb6d90868c5",
        "colab": {
          "base_uri": "https://localhost:8080/",
          "height": 402
        }
      },
      "execution_count": 30,
      "outputs": [
        {
          "output_type": "execute_result",
          "data": {
            "text/plain": [
              "neighbourhood_group\n",
              "Bronx            AxesSubplot(0.125,0.125;0.775x0.755)\n",
              "Brooklyn         AxesSubplot(0.125,0.125;0.775x0.755)\n",
              "Manhattan        AxesSubplot(0.125,0.125;0.775x0.755)\n",
              "Queens           AxesSubplot(0.125,0.125;0.775x0.755)\n",
              "Staten Island    AxesSubplot(0.125,0.125;0.775x0.755)\n",
              "Name: price, dtype: object"
            ]
          },
          "metadata": {},
          "execution_count": 30
        },
        {
          "output_type": "display_data",
          "data": {
            "text/plain": [
              "<Figure size 432x288 with 1 Axes>"
            ],
            "image/png": "[encoded data removed]"
          },
          "metadata": {
            "needs_background": "light"
          }
        }
      ]
    },
    {
      "cell_type": "markdown",
      "source": [
        "Its still really hard to see the staten island. \n",
        "\n",
        "---\n",
        "\n",
        "\n",
        "\n",
        "---\n",
        "\n"
      ],
      "metadata": {
        "id": "0zhiaST05p-N"
      }
    }
  ]
}