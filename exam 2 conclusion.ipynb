{
  "nbformat": 4,
  "nbformat_minor": 0,
  "metadata": {
    "colab": {
      "name": "Untitled91.ipynb",
      "provenance": [],
      "include_colab_link": true
    },
    "kernelspec": {
      "name": "python3",
      "display_name": "Python 3"
    },
    "language_info": {
      "name": "python"
    }
  },
  "cells": [
    {
      "cell_type": "markdown",
      "metadata": {
        "id": "view-in-github",
        "colab_type": "text"
      },
      "source": [
        "<a href=\"https://colab.research.google.com/github/ashpou1/data-processing-4313/blob/main/exam%202%20conclusion.ipynb\" target=\"_parent\"><img src=\"https://colab.research.google.com/assets/colab-badge.svg\" alt=\"Open In Colab\"/></a>"
      ]
    },
    {
      "cell_type": "markdown",
      "source": [
        "# Exam 2 Review"
      ],
      "metadata": {
        "id": "t7eEcsbzqkLD"
      }
    },
    {
      "cell_type": "markdown",
      "source": [
        "Utilizing the bank dataset https://github.com/nurfnick/Data_Viz/blob/main/bank.csv answer the following questions.\n",
        "\n",
        "1. What are the datatypes for each column.  Comment on the appropriateness and change any easy/obvious ones.\n",
        "2. Using regular expresssions, remove the hyphen \"-\" from any job and replace it with a space.\n",
        "3. Convert any place where pdays is -1 to NaN.\n",
        "4. Fill the NaN in pdays with a zero.\n",
        "5. Compute the mean and median of balance when grouped by job.\n",
        "6. Add a column that is a datetime.  Use year of 2020.\n",
        "7. Which day of the week (Monday, Tuesday, ect.) had the most approved loans, y = yes.\n",
        "8. Create an indicator column that shows if the person has more than \\$500 in their acocunt.\n",
        "9. Are divorced, admin people given loans at a higher rate?\n",
        "10. Which job is most likely to have a default on their record?\n",
        "11. Do highly educated people have more or less cellular phones than on average?\n",
        "12. Write another question based on your knowledge of the dataset."
      ],
      "metadata": {
        "id": "imK8HrMtqn1A"
      }
    },
    {
      "cell_type": "code",
      "source": [
        "import pandas as pa"
      ],
      "metadata": {
        "id": "xc93pRXyzJYE"
      },
      "execution_count": 3,
      "outputs": []
    },
    {
      "cell_type": "code",
      "source": [
        "##Using regular expresssions, remove the hyphen \"-\" from any job and replace it with a space.\n",
        "import re\n",
        "re.sub(r\"-\",\" \",df.job[6])"
      ],
      "metadata": {
        "id": "HrrFl-EV0HQp"
      },
      "execution_count": null,
      "outputs": []
    },
    {
      "cell_type": "code",
      "source": [
        "##Convert any place where pdays is -1 to NaN.\n",
        "df.job.apply(lamda x: re.sub(r\"-\",\" \",df.job[6]))"
      ],
      "metadata": {
        "id": "1MKcb2vO0em8"
      },
      "execution_count": null,
      "outputs": []
    },
    {
      "cell_type": "code",
      "source": [
        "##Fill the NaN in pdays with a zero.\n",
        "import numpy as np\n",
        "df.pdays.replace(-1,np.NA)\n",
        "##replaced -1 as NA now fill 0 in NA\n",
        "df.pdays.fillna(0)"
      ],
      "metadata": {
        "id": "JVAn2Wca1uCx"
      },
      "execution_count": null,
      "outputs": []
    },
    {
      "cell_type": "code",
      "source": [
        "##Compute the mean and median of balance when grouped by job\n",
        "##groupby command to make groups agg comand for aggregrate for mean and median\n",
        "df.groupby('job').agg(['mean','median','count','std'])\n"
      ],
      "metadata": {
        "id": "e0HzgRcz1u7U"
      },
      "execution_count": null,
      "outputs": []
    },
    {
      "cell_type": "code",
      "source": [
        "##Add a column that is a datetime. Use year of 2020.\n",
        "##convert into months\n",
        "monthConvert = {\n",
        "    'January':1,\n",
        "    'February':2,\n",
        "    'March':3,\n",
        "    'April':4,\n",
        "    'May':5,\n",
        "    'June':6,\n",
        "    'July':7,\n",
        "    'August':8,\n",
        "    'September':9,\n",
        "    'October':10,\n",
        "    'November':11,\n",
        "    'December':12\n",
        "}"
      ],
      "metadata": {
        "id": "Omv_jgPK3Geh"
      },
      "execution_count": null,
      "outputs": []
    },
    {
      "cell_type": "code",
      "source": [
        "####now datetime\n",
        "pa.to_datetime(dict(year = 2020, day = df.day, month = df.month.map(monthConvert)))"
      ],
      "metadata": {
        "id": "oMuh6QaB4THd"
      },
      "execution_count": null,
      "outputs": []
    },
    {
      "cell_type": "code",
      "source": [
        "##Which day of the week (Monday, Tuesday, ect.) had the most approved loans, y = yes.\n"
      ],
      "metadata": {
        "id": "_HcT05pI4qVv"
      },
      "execution_count": null,
      "outputs": []
    }
  ]
}