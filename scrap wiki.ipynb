{
  "nbformat": 4,
  "nbformat_minor": 0,
  "metadata": {
    "colab": {
      "name": "Untitled7.ipynb",
      "provenance": [],
      "authorship_tag": "ABX9TyPbcc/XTOKTYHHjIlkcKKMO",
      "include_colab_link": true
    },
    "kernelspec": {
      "name": "python3",
      "display_name": "Python 3"
    },
    "language_info": {
      "name": "python"
    }
  },
  "cells": [
    {
      "cell_type": "markdown",
      "metadata": {
        "id": "view-in-github",
        "colab_type": "text"
      },
      "source": [
        "<a href=\"https://colab.research.google.com/github/ashpou1/data-processing-4313/blob/main/scrap%20wiki.ipynb\" target=\"_parent\"><img src=\"https://colab.research.google.com/assets/colab-badge.svg\" alt=\"Open In Colab\"/></a>"
      ]
    },
    {
      "cell_type": "markdown",
      "source": [
        "#ASHOK SHARMA POUDEL  \n",
        "#218380  \n",
        "#DATA PROCESSING VISUALIZATION  4313 \n",
        "#DR. NICHOLAS JACOB"
      ],
      "metadata": {
        "id": "qHTBPolXnyAI"
      }
    },
    {
      "cell_type": "code",
      "execution_count": 1,
      "metadata": {
        "id": "tNuR1eGcnjJ6"
      },
      "outputs": [],
      "source": [
        "import requests\n",
        "import pandas as pa\n",
        "from bs4 import BeautifulSoup"
      ]
    },
    {
      "cell_type": "markdown",
      "source": [
        "i will be doing Peaky Blinders series which"
      ],
      "metadata": {
        "id": "0aHnlRjRojUX"
      }
    },
    {
      "cell_type": "code",
      "source": [
        "r = requests.get('https://en.wikipedia.org/wiki/Peaky_Blinders_(TV_series)')\n",
        "html_contents = r.text\n",
        "html_soup = BeautifulSoup(html_contents,\"lxml\")\n",
        "#html_soup"
      ],
      "metadata": {
        "id": "JN7cwPqMorRK"
      },
      "execution_count": 2,
      "outputs": []
    },
    {
      "cell_type": "code",
      "source": [
        "html_soup.title"
      ],
      "metadata": {
        "id": "TnHSP6JbpJwK",
        "outputId": "36269a75-d95f-4b27-e0d6-a8c1d360dcce",
        "colab": {
          "base_uri": "https://localhost:8080/"
        }
      },
      "execution_count": 4,
      "outputs": [
        {
          "output_type": "execute_result",
          "data": {
            "text/plain": [
              "<title>Peaky Blinders (TV series) - Wikipedia</title>"
            ]
          },
          "metadata": {},
          "execution_count": 4
        }
      ]
    },
    {
      "cell_type": "code",
      "source": [
        "links = html_soup.table.find_all('a')\n",
        "listOfURLS = []\n",
        "\n",
        "for link in links:\n",
        "  listOfURLS.append('https://en.wikipedia.org' + link['href'])\n",
        "\n",
        "listOfURLS"
      ],
      "metadata": {
        "id": "vaPZ9U-to67m",
        "outputId": "9e917105-f57d-44f3-b7f2-3f879d249bde",
        "colab": {
          "base_uri": "https://localhost:8080/"
        }
      },
      "execution_count": 3,
      "outputs": [
        {
          "output_type": "execute_result",
          "data": {
            "text/plain": [
              "['https://en.wikipedia.org/wiki/File:Peaky_Blinders_titlecard.jpg',\n",
              " 'https://en.wikipedia.org/wiki/Historical_fiction',\n",
              " 'https://en.wikipedia.org/wiki/Crime_drama',\n",
              " 'https://en.wikipedia.org/wiki/Steven_Knight',\n",
              " 'https://en.wikipedia.org/wiki/Otto_Bathurst',\n",
              " 'https://en.wikipedia.org/wiki/Tom_Harper_(director)',\n",
              " 'https://en.wikipedia.org/wiki/Colm_McCarthy_(director)',\n",
              " 'https://en.wikipedia.org/wiki/David_Caffrey',\n",
              " 'https://en.wikipedia.org/wiki/Cillian_Murphy',\n",
              " 'https://en.wikipedia.org/wiki/Sam_Neill',\n",
              " 'https://en.wikipedia.org/wiki/Helen_McCrory',\n",
              " 'https://en.wikipedia.org/wiki/Paul_Anderson_(actor)',\n",
              " 'https://en.wikipedia.org/wiki/Annabelle_Wallis',\n",
              " 'https://en.wikipedia.org/wiki/Iddo_Goldberg',\n",
              " 'https://en.wikipedia.org/wiki/Sophie_Rundle',\n",
              " 'https://en.wikipedia.org/wiki/Joe_Cole_(actor)',\n",
              " 'https://en.wikipedia.org/wiki/Finn_Cole',\n",
              " 'https://en.wikipedia.org/wiki/Charlotte_Riley',\n",
              " 'https://en.wikipedia.org/wiki/Noah_Taylor',\n",
              " 'https://en.wikipedia.org/wiki/Tom_Hardy',\n",
              " 'https://en.wikipedia.org/wiki/Natasha_O%27Keeffe',\n",
              " 'https://en.wikipedia.org/wiki/Aimee-Ffion_Edwards',\n",
              " 'https://en.wikipedia.org/wiki/Paddy_Considine',\n",
              " 'https://en.wikipedia.org/wiki/Gaite_Jansen',\n",
              " 'https://en.wikipedia.org/wiki/Alexander_Siddig',\n",
              " 'https://en.wikipedia.org/wiki/Kate_Phillips',\n",
              " 'https://en.wikipedia.org/wiki/Adrien_Brody',\n",
              " 'https://en.wikipedia.org/wiki/Aidan_Gillen',\n",
              " 'https://en.wikipedia.org/wiki/Charlie_Murphy_(actress)',\n",
              " 'https://en.wikipedia.org/wiki/Anya_Taylor-Joy',\n",
              " 'https://en.wikipedia.org/wiki/Sam_Claflin',\n",
              " 'https://en.wikipedia.org/wiki/Red_Right_Hand',\n",
              " 'https://en.wikipedia.org/wiki/Nick_Cave_and_the_Bad_Seeds',\n",
              " 'https://en.wikipedia.org/wiki/Martin_Phipps',\n",
              " 'https://en.wikipedia.org/wiki/Paul_Hartnoll',\n",
              " 'https://en.wikipedia.org/wiki/Antony_Genn',\n",
              " 'https://en.wikipedia.org/wiki/Martin_Slattery',\n",
              " 'https://en.wikipedia.org/wiki/Anna_Calvi',\n",
              " 'https://en.wikipedia.org/wiki/List_of_Peaky_Blinders_episodes',\n",
              " 'https://en.wikipedia.org/wiki/Caryn_Mandabach',\n",
              " 'https://en.wikipedia.org/wiki/Birmingham',\n",
              " 'https://en.wikipedia.org/wiki/Bradford',\n",
              " 'https://en.wikipedia.org/wiki/Keighley',\n",
              " 'https://en.wikipedia.org/wiki/Leeds',\n",
              " 'https://en.wikipedia.org/wiki/Bolton',\n",
              " 'https://en.wikipedia.org/wiki/Wigan',\n",
              " 'https://en.wikipedia.org/wiki/Manchester',\n",
              " 'https://en.wikipedia.org/wiki/Liverpool',\n",
              " 'https://en.wikipedia.org/wiki/City_of_Bradford',\n",
              " 'https://en.wikipedia.org/wiki/Dudley',\n",
              " 'https://en.wikipedia.org/wiki/Stockport',\n",
              " 'https://en.wikipedia.org/wiki/London',\n",
              " 'https://en.wikipedia.org/wiki/BBC_Studios',\n",
              " 'https://en.wikipedia.org/wiki/Tiger_Aspect_Productions',\n",
              " 'https://en.wikipedia.org/wiki/Screen_Yorkshire',\n",
              " 'https://en.wikipedia.org/wiki/BBC_Studios',\n",
              " 'https://en.wikipedia.org/wiki/Endemol_Shine_Group',\n",
              " 'https://en.wikipedia.org#cite_note-1',\n",
              " 'https://en.wikipedia.org/wiki/Netflix',\n",
              " 'https://en.wikipedia.org/wiki/BBC_Two',\n",
              " 'https://en.wikipedia.org/wiki/BBC_One',\n",
              " 'https://en.wikipedia.org/wiki/1080i',\n",
              " 'https://en.wikipedia.org/wiki/HDTV',\n",
              " 'https://en.wikipedia.org/wiki/Stereophonic_sound',\n",
              " 'https://en.wikipedia.org/wiki/5.1_Surround_Sound',\n",
              " 'https://en.wikipedia.orghttps://www.bbc.co.uk/programmes/b045fz8r']"
            ]
          },
          "metadata": {},
          "execution_count": 3
        }
      ]
    }
  ]
}