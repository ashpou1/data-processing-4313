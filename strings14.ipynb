{
  "nbformat": 4,
  "nbformat_minor": 0,
  "metadata": {
    "colab": {
      "name": "Untitled7.ipynb",
      "provenance": [],
      "authorship_tag": "ABX9TyOPkMWHfnhH1bNBPmMIEfak",
      "include_colab_link": true
    },
    "kernelspec": {
      "name": "python3",
      "display_name": "Python 3"
    },
    "language_info": {
      "name": "python"
    }
  },
  "cells": [
    {
      "cell_type": "markdown",
      "metadata": {
        "id": "view-in-github",
        "colab_type": "text"
      },
      "source": [
        "<a href=\"https://colab.research.google.com/github/ashpou1/data-processing-4313/blob/main/strings14.ipynb\" target=\"_parent\"><img src=\"https://colab.research.google.com/assets/colab-badge.svg\" alt=\"Open In Colab\"/></a>"
      ]
    },
    {
      "cell_type": "markdown",
      "source": [
        "#ASHOK SHARMA POUDEL  \n",
        "#218380  \n",
        "#DATA PROCESSING VISUALIZATION  4313 \n",
        "#DR. NICHOLAS JACOB"
      ],
      "metadata": {
        "id": "qHTBPolXnyAI"
      }
    },
    {
      "cell_type": "markdown",
      "source": [
        "# Strings"
      ],
      "metadata": {
        "id": "buWv3hsx9mHP"
      }
    },
    {
      "cell_type": "markdown",
      "source": [
        "You Turn\n",
        "Write a program to print the 'Happy Birthday' song including your name. Try to do it with as few strings as possible."
      ],
      "metadata": {
        "id": "h_wIXJfc91xZ"
      }
    },
    {
      "cell_type": "code",
      "execution_count": 9,
      "metadata": {
        "id": "tNuR1eGcnjJ6",
        "colab": {
          "base_uri": "https://localhost:8080/",
          "height": 35
        },
        "outputId": "38c33762-f968-41ba-c99b-3a05b8f4bcd7"
      },
      "outputs": [
        {
          "output_type": "execute_result",
          "data": {
            "application/vnd.google.colaboratory.intrinsic+json": {
              "type": "string"
            },
            "text/plain": [
              "'H'"
            ]
          },
          "metadata": {},
          "execution_count": 9
        }
      ],
      "source": [
        "hbd = 'Happy Birthday To You'\n",
        "\n",
        "hbd[0]"
      ]
    },
    {
      "cell_type": "code",
      "source": [
        "for letter in hbd:\n",
        "  print(letter)"
      ],
      "metadata": {
        "colab": {
          "base_uri": "https://localhost:8080/"
        },
        "id": "sMzMPqUY-bv7",
        "outputId": "e9f5198d-2fc9-43a7-b711-f07d27617349"
      },
      "execution_count": 10,
      "outputs": [
        {
          "output_type": "stream",
          "name": "stdout",
          "text": [
            "H\n",
            "a\n",
            "p\n",
            "p\n",
            "y\n",
            " \n",
            "B\n",
            "i\n",
            "r\n",
            "t\n",
            "h\n",
            "d\n",
            "a\n",
            "y\n",
            " \n",
            "T\n",
            "o\n",
            " \n",
            "Y\n",
            "o\n",
            "u\n"
          ]
        }
      ]
    },
    {
      "cell_type": "code",
      "source": [
        "hbd * 3  + \" dear ashok \" +  hbd"
      ],
      "metadata": {
        "colab": {
          "base_uri": "https://localhost:8080/",
          "height": 35
        },
        "id": "hn9ny648Be7C",
        "outputId": "885a1da7-ff44-4cb0-b15d-11e77a44d733"
      },
      "execution_count": 8,
      "outputs": [
        {
          "output_type": "execute_result",
          "data": {
            "application/vnd.google.colaboratory.intrinsic+json": {
              "type": "string"
            },
            "text/plain": [
              "'happy birthday to youhappy birthday to youhappy birthday to you dear ashok happy birthday to you'"
            ]
          },
          "metadata": {},
          "execution_count": 8
        }
      ]
    },
    {
      "cell_type": "code",
      "source": [
        "hbd = \"HAPPY BIRTHDAY TO YOU \"\n",
        "hbd*2+hbd[:-7]+x+hbd"
      ],
      "metadata": {
        "id": "l6-E-xEqG8wS",
        "outputId": "7fa02568-71f6-4e7c-9079-566c3aec8846",
        "colab": {
          "base_uri": "https://localhost:8080/",
          "height": 35
        }
      },
      "execution_count": 25,
      "outputs": [
        {
          "output_type": "execute_result",
          "data": {
            "application/vnd.google.colaboratory.intrinsic+json": {
              "type": "string"
            },
            "text/plain": [
              "'HAPPY BIRTHDAY TO YOU HAPPY BIRTHDAY TO YOU HAPPY BIRTHDAY DEAR ASHOK HAPPY BIRTHDAY TO YOU '"
            ]
          },
          "metadata": {},
          "execution_count": 25
        }
      ]
    },
    {
      "cell_type": "code",
      "source": [
        "hbd = \"HAPPY BIRTHDAY TO YOU \"\n",
        "x= \"DEAR ASHOK \"\n",
        "hbd*2+hbd[:-7]+x+hbd"
      ],
      "metadata": {
        "colab": {
          "base_uri": "https://localhost:8080/",
          "height": 35
        },
        "id": "AN0T-O22F1Z2",
        "outputId": "bcf94d19-e093-488a-a7d5-c578eda30df0"
      },
      "execution_count": 24,
      "outputs": [
        {
          "output_type": "execute_result",
          "data": {
            "application/vnd.google.colaboratory.intrinsic+json": {
              "type": "string"
            },
            "text/plain": [
              "'HAPPY BIRTHDAY TO YOU HAPPY BIRTHDAY TO YOU HAPPY BIRTHDAY DEAR ASHOK HAPPY BIRTHDAY TO YOU '"
            ]
          },
          "metadata": {},
          "execution_count": 24
        }
      ]
    }
  ]
}