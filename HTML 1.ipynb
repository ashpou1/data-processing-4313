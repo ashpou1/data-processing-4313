{
  "nbformat": 4,
  "nbformat_minor": 0,
  "metadata": {
    "colab": {
      "name": "Untitled7.ipynb",
      "provenance": [],
      "authorship_tag": "ABX9TyPogAGiBZdpUXxRf+wVedJj",
      "include_colab_link": true
    },
    "kernelspec": {
      "name": "python3",
      "display_name": "Python 3"
    },
    "language_info": {
      "name": "python"
    }
  },
  "cells": [
    {
      "cell_type": "markdown",
      "metadata": {
        "id": "view-in-github",
        "colab_type": "text"
      },
      "source": [
        "<a href=\"https://colab.research.google.com/github/ashpou1/data-processing-4313/blob/main/HTML%201.ipynb\" target=\"_parent\"><img src=\"https://colab.research.google.com/assets/colab-badge.svg\" alt=\"Open In Colab\"/></a>"
      ]
    },
    {
      "cell_type": "markdown",
      "source": [
        "#ASHOK SHARMA POUDEL  \n",
        "#218380  \n",
        "#DATA PROCESSING VISUALIZATION  4313 \n",
        "#DR. NICHOLAS JACOB"
      ],
      "metadata": {
        "id": "qHTBPolXnyAI"
      }
    },
    {
      "cell_type": "code",
      "execution_count": 9,
      "metadata": {
        "id": "tNuR1eGcnjJ6"
      },
      "outputs": [],
      "source": [
        "import requests\n",
        "import pandas as pa\n",
        "from bs4 import BeautifulSoup"
      ]
    },
    {
      "cell_type": "markdown",
      "source": [
        "In recent days, i am watching some emotional korean drama. so i will be doing Crash Landing On you because its a love story between north korean boy and south korean girl. "
      ],
      "metadata": {
        "id": "0aHnlRjRojUX"
      }
    },
    {
      "cell_type": "code",
      "source": [
        "r = requests.get('https://en.wikipedia.org/wiki/Crash_Landing_on_You')\n",
        "html_contents = r.text\n",
        "html_soup = BeautifulSoup(html_contents)\n",
        "#html_soup"
      ],
      "metadata": {
        "id": "JN7cwPqMorRK"
      },
      "execution_count": 10,
      "outputs": []
    },
    {
      "cell_type": "markdown",
      "source": [
        "# lets pull up a title "
      ],
      "metadata": {
        "id": "tU4E_5kSqD80"
      }
    },
    {
      "cell_type": "code",
      "source": [
        "html_soup.title"
      ],
      "metadata": {
        "colab": {
          "base_uri": "https://localhost:8080/"
        },
        "id": "TnHSP6JbpJwK",
        "outputId": "80be841d-abe2-4695-8c15-43f791f54375"
      },
      "execution_count": 11,
      "outputs": [
        {
          "output_type": "execute_result",
          "data": {
            "text/plain": [
              "<title>Crash Landing on You - Wikipedia</title>"
            ]
          },
          "metadata": {},
          "execution_count": 11
        }
      ]
    },
    {
      "cell_type": "markdown",
      "source": [
        "# Now i will pull up all the links from wikipedia. "
      ],
      "metadata": {
        "id": "bxveDr4ZqMfJ"
      }
    },
    {
      "cell_type": "code",
      "source": [
        "links = html_soup.table.find_all('a')\n",
        "listOfURLS = []\n",
        "\n",
        "for link in links:\n",
        "  listOfURLS.append('https://en.wikipedia.org' + link['href'])\n",
        "\n",
        "listOfURLS"
      ],
      "metadata": {
        "colab": {
          "base_uri": "https://localhost:8080/"
        },
        "id": "vaPZ9U-to67m",
        "outputId": "21100616-2435-4130-8afa-04839f691432"
      },
      "execution_count": 12,
      "outputs": [
        {
          "output_type": "execute_result",
          "data": {
            "text/plain": [
              "['https://en.wikipedia.org/wiki/File:Crash_Landing_on_You_main_poster.jpg',\n",
              " 'https://en.wikipedia.org/wiki/Hangul',\n",
              " 'https://en.wikipedia.org/wiki/Hanja',\n",
              " 'https://en.wikipedia.org/wiki/Romantic_drama',\n",
              " 'https://en.wikipedia.org#cite_note-1',\n",
              " 'https://en.wikipedia.org/wiki/Romantic_comedy',\n",
              " 'https://en.wikipedia.org#cite_note-2',\n",
              " 'https://en.wikipedia.org/wiki/Studio_Dragon',\n",
              " 'https://en.wikipedia.org/wiki/Park_Ji-eun',\n",
              " 'https://en.wikipedia.org/wiki/Hyun_Bin',\n",
              " 'https://en.wikipedia.org/wiki/Son_Ye-jin',\n",
              " 'https://en.wikipedia.org/wiki/Kim_Jung-hyun_(actor,_born_1990)',\n",
              " 'https://en.wikipedia.org/wiki/Seo_Ji-hye',\n",
              " 'https://en.wikipedia.org/wiki/Nam_Hye-Seung_(Composer)',\n",
              " 'https://en.wikipedia.org#Episodes',\n",
              " 'https://en.wikipedia.org#cite_note-seven-3',\n",
              " 'https://en.wikipedia.org#cite_note-seven-3',\n",
              " 'https://en.wikipedia.org/wiki/Culture_Depot',\n",
              " 'https://en.wikipedia.org/wiki/TVN_(South_Korean_TV_channel)',\n",
              " 'https://en.wikipedia.org/wiki/Netflix',\n",
              " 'https://en.wikipedia.org#cite_note-Netflix-4',\n",
              " 'https://en.wikipedia.org#cite_note-asianikkei-5',\n",
              " 'https://en.wikipedia.org/wiki/2160p',\n",
              " 'https://en.wikipedia.org/wiki/UHDTV',\n",
              " 'https://en.wikipedia.org/wiki/Dolby_Digital',\n",
              " 'https://en.wikipedia.orghttp://program.tving.com/tvn/cloy/',\n",
              " 'https://en.wikipedia.orghttp://www.studiodragon.net/front/kr/works/portfolio_view?class1=&cpage=6&idx=313']"
            ]
          },
          "metadata": {},
          "execution_count": 12
        }
      ]
    }
  ]
}