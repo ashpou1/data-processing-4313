{
  "nbformat": 4,
  "nbformat_minor": 0,
  "metadata": {
    "colab": {
      "name": "Untitled7.ipynb",
      "provenance": [],
      "authorship_tag": "ABX9TyNRtclcahOD38+S4MUpEwgr",
      "include_colab_link": true
    },
    "kernelspec": {
      "name": "python3",
      "display_name": "Python 3"
    },
    "language_info": {
      "name": "python"
    }
  },
  "cells": [
    {
      "cell_type": "markdown",
      "metadata": {
        "id": "view-in-github",
        "colab_type": "text"
      },
      "source": [
        "<a href=\"https://colab.research.google.com/github/ashpou1/data-processing-4313/blob/main/timely%20topics%2031.ipynb\" target=\"_parent\"><img src=\"https://colab.research.google.com/assets/colab-badge.svg\" alt=\"Open In Colab\"/></a>"
      ]
    },
    {
      "cell_type": "markdown",
      "source": [
        "#ASHOK SHARMA POUDEL  \n",
        "#218380  \n",
        "#DATA PROCESSING VISUALIZATION  4313 \n",
        "#DR. NICHOLAS JACOB"
      ],
      "metadata": {
        "id": "qHTBPolXnyAI"
      }
    },
    {
      "cell_type": "markdown",
      "source": [
        "## Timely topic 31"
      ],
      "metadata": {
        "id": "dJ_b0AxcomkD"
      }
    },
    {
      "cell_type": "markdown",
      "source": [
        "## Timely topics to look for data visualizations\n",
        "\n",
        "---\n",
        "\n"
      ],
      "metadata": {
        "id": "6U0_FqNDrgjn"
      }
    },
    {
      "cell_type": "markdown",
      "source": [
        "## Race of Development of Electric Vehicle\n",
        "## Development of Renewable Resources\n",
        "## Vertical Aquaponics Organic Farming"
      ],
      "metadata": {
        "id": "C-Jg5tWMqTvH"
      }
    },
    {
      "cell_type": "markdown",
      "source": [
        "Among all the hot topics, i perfer to do this topics. I was grown up in small town in the family of farmers and close to nature, i always wanted to be close to nature and want to work for save and conserve it for future generation. \n",
        "\n",
        "My frist topic Eletric vehicle come up to my mind as today mercedes release a new prototype of EV which can drive in 600+ kilometer with single charge. The moter vehicle companies are racing to make a efficent EV with high millage in single charge. Started from Tesla, gasoline motor companies like GMC,Chevrlot,Mercedes,porsche and other are investing whatever they have to build a new generation EV.\n",
        "\n",
        "My second topic Renewable energy resources is the main goal for many countries. As the invasion of the Ukraine, gas prices soars to higest. Alot of countries are passsing legislative bill to make changes towards renewable energy resources. \n",
        "\n",
        "My third topic Organic farming among which new generation of vertical Aquapoincs is most important for sustain the world's demands of food. And Also i am currently working on my bussiness plan for a vertical Aquaponics farming to product sales through home delivery and stores bassed in my home country Nepal. \n",
        "\n",
        "thats why i am really like this hot topic which i think alot of people willnot think about it. "
      ],
      "metadata": {
        "id": "c832ft8FrYCw"
      }
    }
  ]
}