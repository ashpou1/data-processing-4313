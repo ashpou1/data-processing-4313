{
  "nbformat": 4,
  "nbformat_minor": 0,
  "metadata": {
    "colab": {
      "name": "Untitled7.ipynb",
      "provenance": [],
      "authorship_tag": "ABX9TyMCsN6qjdt71MqwiRnUoZHi",
      "include_colab_link": true
    },
    "kernelspec": {
      "name": "python3",
      "display_name": "Python 3"
    },
    "language_info": {
      "name": "python"
    }
  },
  "cells": [
    {
      "cell_type": "markdown",
      "metadata": {
        "id": "view-in-github",
        "colab_type": "text"
      },
      "source": [
        "<a href=\"https://colab.research.google.com/github/ashpou1/data-processing-4313/blob/main/timely%20topics%2031.ipynb\" target=\"_parent\"><img src=\"https://colab.research.google.com/assets/colab-badge.svg\" alt=\"Open In Colab\"/></a>"
      ]
    },
    {
      "cell_type": "markdown",
      "source": [
        "#ASHOK SHARMA POUDEL  \n",
        "#218380  \n",
        "#DATA PROCESSING VISUALIZATION  4313 \n",
        "#DR. NICHOLAS JACOB"
      ],
      "metadata": {
        "id": "qHTBPolXnyAI"
      }
    },
    {
      "cell_type": "markdown",
      "source": [
        "## Timely topic 31"
      ],
      "metadata": {
        "id": "dJ_b0AxcomkD"
      }
    },
    {
      "cell_type": "code",
      "execution_count": null,
      "metadata": {
        "id": "tNuR1eGcnjJ6"
      },
      "outputs": [],
      "source": [
        ""
      ]
    }
  ]
}